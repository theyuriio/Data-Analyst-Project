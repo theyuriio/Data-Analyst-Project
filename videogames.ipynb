{
 "cells": [
  {
   "cell_type": "code",
   "execution_count": 43,
   "metadata": {},
   "outputs": [],
   "source": [
    "import pandas as pd\n",
    "import numpy as np\n",
    "import seaborn as sns\n",
    "import matplotlib.pyplot as plt\n",
    "import plotly.express as px\n",
    "from pathlib import Path"
   ]
  },
  {
   "cell_type": "code",
   "execution_count": 44,
   "metadata": {},
   "outputs": [
    {
     "data": {
      "text/html": [
       "<div>\n",
       "<style scoped>\n",
       "    .dataframe tbody tr th:only-of-type {\n",
       "        vertical-align: middle;\n",
       "    }\n",
       "\n",
       "    .dataframe tbody tr th {\n",
       "        vertical-align: top;\n",
       "    }\n",
       "\n",
       "    .dataframe thead th {\n",
       "        text-align: right;\n",
       "    }\n",
       "</style>\n",
       "<table border=\"1\" class=\"dataframe\">\n",
       "  <thead>\n",
       "    <tr style=\"text-align: right;\">\n",
       "      <th></th>\n",
       "      <th>Title</th>\n",
       "      <th>Release Date</th>\n",
       "      <th>Developer</th>\n",
       "      <th>Publisher</th>\n",
       "      <th>Genres</th>\n",
       "      <th>Genres Splitted</th>\n",
       "      <th>Product Rating</th>\n",
       "      <th>User Score</th>\n",
       "      <th>User Ratings Count</th>\n",
       "      <th>Platforms Info</th>\n",
       "    </tr>\n",
       "  </thead>\n",
       "  <tbody>\n",
       "    <tr>\n",
       "      <th>0</th>\n",
       "      <td>Ziggurat (2012)</td>\n",
       "      <td>2/17/2012</td>\n",
       "      <td>Action Button Entertainment</td>\n",
       "      <td>Freshuu Inc.</td>\n",
       "      <td>Action</td>\n",
       "      <td>['Action']</td>\n",
       "      <td>NaN</td>\n",
       "      <td>6.9</td>\n",
       "      <td>14.0</td>\n",
       "      <td>[{'Platform': 'iOS (iPhone/iPad)', 'Platform M...</td>\n",
       "    </tr>\n",
       "    <tr>\n",
       "      <th>1</th>\n",
       "      <td>4X4 EVO 2</td>\n",
       "      <td>11/15/2001</td>\n",
       "      <td>Terminal Reality</td>\n",
       "      <td>Gathering</td>\n",
       "      <td>Auto Racing Sim</td>\n",
       "      <td>['Auto', 'Racing', 'Sim']</td>\n",
       "      <td>Rated E For Everyone</td>\n",
       "      <td>NaN</td>\n",
       "      <td>NaN</td>\n",
       "      <td>[{'Platform': 'Xbox', 'Platform Metascore': '5...</td>\n",
       "    </tr>\n",
       "    <tr>\n",
       "      <th>2</th>\n",
       "      <td>MotoGP 2 (2001)</td>\n",
       "      <td>1/22/2002</td>\n",
       "      <td>Namco</td>\n",
       "      <td>Namco</td>\n",
       "      <td>Auto Racing Sim</td>\n",
       "      <td>['Auto', 'Racing', 'Sim']</td>\n",
       "      <td>Rated E For Everyone</td>\n",
       "      <td>5.8</td>\n",
       "      <td>NaN</td>\n",
       "      <td>[{'Platform': 'PlayStation 2', 'Platform Metas...</td>\n",
       "    </tr>\n",
       "    <tr>\n",
       "      <th>3</th>\n",
       "      <td>Gothic 3</td>\n",
       "      <td>11/14/2006</td>\n",
       "      <td>Piranha Bytes</td>\n",
       "      <td>Aspyr</td>\n",
       "      <td>Western RPG</td>\n",
       "      <td>['Western', 'RPG']</td>\n",
       "      <td>Rated T For Teen</td>\n",
       "      <td>7.5</td>\n",
       "      <td>832.0</td>\n",
       "      <td>[{'Platform': 'PC', 'Platform Metascore': '63'...</td>\n",
       "    </tr>\n",
       "    <tr>\n",
       "      <th>4</th>\n",
       "      <td>Siege Survival: Gloria Victis</td>\n",
       "      <td>5/18/2021</td>\n",
       "      <td>FishTankStudio</td>\n",
       "      <td>Black Eye Games</td>\n",
       "      <td>RPG</td>\n",
       "      <td>['RPG']</td>\n",
       "      <td>NaN</td>\n",
       "      <td>6.5</td>\n",
       "      <td>10.0</td>\n",
       "      <td>[{'Platform': 'PC', 'Platform Metascore': '69'...</td>\n",
       "    </tr>\n",
       "  </tbody>\n",
       "</table>\n",
       "</div>"
      ],
      "text/plain": [
       "                           Title Release Date                    Developer  \\\n",
       "0                Ziggurat (2012)    2/17/2012  Action Button Entertainment   \n",
       "1                      4X4 EVO 2   11/15/2001             Terminal Reality   \n",
       "2                MotoGP 2 (2001)    1/22/2002                        Namco   \n",
       "3                       Gothic 3   11/14/2006                Piranha Bytes   \n",
       "4  Siege Survival: Gloria Victis    5/18/2021               FishTankStudio   \n",
       "\n",
       "         Publisher           Genres            Genres Splitted  \\\n",
       "0     Freshuu Inc.           Action                 ['Action']   \n",
       "1        Gathering  Auto Racing Sim  ['Auto', 'Racing', 'Sim']   \n",
       "2            Namco  Auto Racing Sim  ['Auto', 'Racing', 'Sim']   \n",
       "3            Aspyr      Western RPG         ['Western', 'RPG']   \n",
       "4  Black Eye Games              RPG                    ['RPG']   \n",
       "\n",
       "         Product Rating  User Score  User Ratings Count  \\\n",
       "0                   NaN         6.9                14.0   \n",
       "1  Rated E For Everyone         NaN                 NaN   \n",
       "2  Rated E For Everyone         5.8                 NaN   \n",
       "3      Rated T For Teen         7.5               832.0   \n",
       "4                   NaN         6.5                10.0   \n",
       "\n",
       "                                      Platforms Info  \n",
       "0  [{'Platform': 'iOS (iPhone/iPad)', 'Platform M...  \n",
       "1  [{'Platform': 'Xbox', 'Platform Metascore': '5...  \n",
       "2  [{'Platform': 'PlayStation 2', 'Platform Metas...  \n",
       "3  [{'Platform': 'PC', 'Platform Metascore': '63'...  \n",
       "4  [{'Platform': 'PC', 'Platform Metascore': '69'...  "
      ]
     },
     "execution_count": 44,
     "metadata": {},
     "output_type": "execute_result"
    }
   ],
   "source": [
    "df = pd.read_csv(r\"D:\\datasets\\VideoGames\\all_video_games(cleaned).csv\")\n",
    "df.head()"
   ]
  },
  {
   "cell_type": "code",
   "execution_count": 45,
   "metadata": {},
   "outputs": [
    {
     "data": {
      "text/plain": [
       "Title                   21\n",
       "Release Date            64\n",
       "Developer              138\n",
       "Publisher              138\n",
       "Genres                  21\n",
       "Genres Splitted         21\n",
       "Product Rating        3050\n",
       "User Score            2341\n",
       "User Ratings Count    2756\n",
       "Platforms Info           0\n",
       "dtype: int64"
      ]
     },
     "execution_count": 45,
     "metadata": {},
     "output_type": "execute_result"
    }
   ],
   "source": [
    "df_nulls = df.isnull()\n",
    "df_nulls.sum()"
   ]
  },
  {
   "cell_type": "code",
   "execution_count": 46,
   "metadata": {},
   "outputs": [
    {
     "data": {
      "text/plain": [
       "20"
      ]
     },
     "execution_count": 46,
     "metadata": {},
     "output_type": "execute_result"
    }
   ],
   "source": [
    "df.duplicated().sum()"
   ]
  },
  {
   "cell_type": "code",
   "execution_count": 47,
   "metadata": {},
   "outputs": [
    {
     "name": "stdout",
     "output_type": "stream",
     "text": [
      "<class 'pandas.core.frame.DataFrame'>\n",
      "Index: 9085 entries, 3 to 14053\n",
      "Data columns (total 10 columns):\n",
      " #   Column              Non-Null Count  Dtype  \n",
      "---  ------              --------------  -----  \n",
      " 0   Title               9085 non-null   object \n",
      " 1   Release Date        9085 non-null   object \n",
      " 2   Developer           9085 non-null   object \n",
      " 3   Publisher           9085 non-null   object \n",
      " 4   Genres              9085 non-null   object \n",
      " 5   Genres Splitted     9085 non-null   object \n",
      " 6   Product Rating      9085 non-null   object \n",
      " 7   User Score          9085 non-null   float64\n",
      " 8   User Ratings Count  9085 non-null   float64\n",
      " 9   Platforms Info      9085 non-null   object \n",
      "dtypes: float64(2), object(8)\n",
      "memory usage: 780.7+ KB\n"
     ]
    }
   ],
   "source": [
    "df = df[df.notnull().all(1)]\n",
    "\n",
    "df.info()"
   ]
  },
  {
   "cell_type": "code",
   "execution_count": 48,
   "metadata": {},
   "outputs": [
    {
     "data": {
      "text/plain": [
       "0"
      ]
     },
     "execution_count": 48,
     "metadata": {},
     "output_type": "execute_result"
    }
   ],
   "source": [
    "df.duplicated().sum()"
   ]
  },
  {
   "cell_type": "code",
   "execution_count": 49,
   "metadata": {},
   "outputs": [],
   "source": [
    "df['Release Date']=pd.to_datetime(df['Release Date'])"
   ]
  },
  {
   "cell_type": "code",
   "execution_count": 50,
   "metadata": {},
   "outputs": [
    {
     "data": {
      "image/png": "[encoded data removed]",
      "text/plain": [
       "<Figure size 1500x800 with 1 Axes>"
      ]
     },
     "metadata": {},
     "output_type": "display_data"
    }
   ],
   "source": [
    "most_popular_games = df.nlargest(10, 'User Ratings Count')\n",
    "\n",
    "plt.figure(figsize=(15, 8))\n",
    "sns.barplot(x='User Ratings Count', hue='Title',y='Title', legend=False, data=most_popular_games, palette='Blues_d')\n",
    "plt.xlabel('User Ratings Count')\n",
    "plt.ylabel('')\n",
    "plt.show()"
   ]
  },
  {
   "cell_type": "code",
   "execution_count": 51,
   "metadata": {},
   "outputs": [
    {
     "data": {
      "text/html": [
       "<style type=\"text/css\">\n",
       "</style>\n",
       "<table id=\"T_a5a6c\">\n",
       "  <thead>\n",
       "    <tr>\n",
       "      <th id=\"T_a5a6c_level0_col0\" class=\"col_heading level0 col0\" >Developer</th>\n",
       "      <th id=\"T_a5a6c_level0_col1\" class=\"col_heading level0 col1\" >count</th>\n",
       "    </tr>\n",
       "  </thead>\n",
       "  <tbody>\n",
       "    <tr>\n",
       "      <td id=\"T_a5a6c_row0_col0\" class=\"data row0 col0\" >Capcom</td>\n",
       "      <td id=\"T_a5a6c_row0_col1\" class=\"data row0 col1\" >158</td>\n",
       "    </tr>\n",
       "    <tr>\n",
       "      <td id=\"T_a5a6c_row1_col0\" class=\"data row1 col0\" >Nintendo</td>\n",
       "      <td id=\"T_a5a6c_row1_col1\" class=\"data row1 col1\" >133</td>\n",
       "    </tr>\n",
       "    <tr>\n",
       "      <td id=\"T_a5a6c_row2_col0\" class=\"data row2 col0\" >Telltale Games</td>\n",
       "      <td id=\"T_a5a6c_row2_col1\" class=\"data row2 col1\" >86</td>\n",
       "    </tr>\n",
       "    <tr>\n",
       "      <td id=\"T_a5a6c_row3_col0\" class=\"data row3 col0\" >Konami</td>\n",
       "      <td id=\"T_a5a6c_row3_col1\" class=\"data row3 col1\" >72</td>\n",
       "    </tr>\n",
       "    <tr>\n",
       "      <td id=\"T_a5a6c_row4_col0\" class=\"data row4 col0\" >Square Enix</td>\n",
       "      <td id=\"T_a5a6c_row4_col1\" class=\"data row4 col1\" >71</td>\n",
       "    </tr>\n",
       "    <tr>\n",
       "      <td id=\"T_a5a6c_row5_col0\" class=\"data row5 col0\" >Omega Force</td>\n",
       "      <td id=\"T_a5a6c_row5_col1\" class=\"data row5 col1\" >66</td>\n",
       "    </tr>\n",
       "    <tr>\n",
       "      <td id=\"T_a5a6c_row6_col0\" class=\"data row6 col0\" >Ubisoft</td>\n",
       "      <td id=\"T_a5a6c_row6_col1\" class=\"data row6 col1\" >61</td>\n",
       "    </tr>\n",
       "    <tr>\n",
       "      <td id=\"T_a5a6c_row7_col0\" class=\"data row7 col0\" >Ubisoft Montreal</td>\n",
       "      <td id=\"T_a5a6c_row7_col1\" class=\"data row7 col1\" >58</td>\n",
       "    </tr>\n",
       "    <tr>\n",
       "      <td id=\"T_a5a6c_row8_col0\" class=\"data row8 col0\" >EA Sports</td>\n",
       "      <td id=\"T_a5a6c_row8_col1\" class=\"data row8 col1\" >54</td>\n",
       "    </tr>\n",
       "    <tr>\n",
       "      <td id=\"T_a5a6c_row9_col0\" class=\"data row9 col0\" >Bandai Namco Games</td>\n",
       "      <td id=\"T_a5a6c_row9_col1\" class=\"data row9 col1\" >50</td>\n",
       "    </tr>\n",
       "    <tr>\n",
       "      <td id=\"T_a5a6c_row10_col0\" class=\"data row10 col0\" >Sega</td>\n",
       "      <td id=\"T_a5a6c_row10_col1\" class=\"data row10 col1\" >49</td>\n",
       "    </tr>\n",
       "    <tr>\n",
       "      <td id=\"T_a5a6c_row11_col0\" class=\"data row11 col0\" >EA Canada</td>\n",
       "      <td id=\"T_a5a6c_row11_col1\" class=\"data row11 col1\" >48</td>\n",
       "    </tr>\n",
       "    <tr>\n",
       "      <td id=\"T_a5a6c_row12_col0\" class=\"data row12 col0\" >TOSE</td>\n",
       "      <td id=\"T_a5a6c_row12_col1\" class=\"data row12 col1\" >48</td>\n",
       "    </tr>\n",
       "    <tr>\n",
       "      <td id=\"T_a5a6c_row13_col0\" class=\"data row13 col0\" >Atlus</td>\n",
       "      <td id=\"T_a5a6c_row13_col1\" class=\"data row13 col1\" >47</td>\n",
       "    </tr>\n",
       "    <tr>\n",
       "      <td id=\"T_a5a6c_row14_col0\" class=\"data row14 col0\" >Nippon Ichi Software</td>\n",
       "      <td id=\"T_a5a6c_row14_col1\" class=\"data row14 col1\" >47</td>\n",
       "    </tr>\n",
       "  </tbody>\n",
       "</table>\n"
      ],
      "text/plain": [
       "<pandas.io.formats.style.Styler at 0x1ab6323eb10>"
      ]
     },
     "execution_count": 51,
     "metadata": {},
     "output_type": "execute_result"
    }
   ],
   "source": [
    "Top_Game_Developers=df['Developer'].value_counts().reset_index().head(15)\n",
    "Top_Game_Developers.style.hide(axis=\"index\")"
   ]
  },
  {
   "cell_type": "code",
   "execution_count": 52,
   "metadata": {},
   "outputs": [],
   "source": [
    "df['Release Year']=df['Release Date'].dt.year"
   ]
  },
  {
   "cell_type": "code",
   "execution_count": 53,
   "metadata": {},
   "outputs": [
    {
     "data": {
      "text/html": [
       "<style type=\"text/css\">\n",
       "#T_95990_row0_col1 {\n",
       "  background-color: #f7fbff;\n",
       "  color: #000000;\n",
       "}\n",
       "#T_95990_row1_col1 {\n",
       "  background-color: #f4f9fe;\n",
       "  color: #000000;\n",
       "}\n",
       "#T_95990_row2_col1 {\n",
       "  background-color: #f2f7fd;\n",
       "  color: #000000;\n",
       "}\n",
       "#T_95990_row3_col1 {\n",
       "  background-color: #e6f0f9;\n",
       "  color: #000000;\n",
       "}\n",
       "#T_95990_row4_col1 {\n",
       "  background-color: #e5eff9;\n",
       "  color: #000000;\n",
       "}\n",
       "#T_95990_row5_col1 {\n",
       "  background-color: #75b4d8;\n",
       "  color: #000000;\n",
       "}\n",
       "#T_95990_row6_col1 {\n",
       "  background-color: #3c8cc3;\n",
       "  color: #f1f1f1;\n",
       "}\n",
       "#T_95990_row7_col1 {\n",
       "  background-color: #2a7ab9;\n",
       "  color: #f1f1f1;\n",
       "}\n",
       "#T_95990_row8_col1 {\n",
       "  background-color: #2272b6;\n",
       "  color: #f1f1f1;\n",
       "}\n",
       "#T_95990_row9_col1 {\n",
       "  background-color: #1a68ae;\n",
       "  color: #f1f1f1;\n",
       "}\n",
       "#T_95990_row10_col1 {\n",
       "  background-color: #135fa7;\n",
       "  color: #f1f1f1;\n",
       "}\n",
       "#T_95990_row11_col1 {\n",
       "  background-color: #084184;\n",
       "  color: #f1f1f1;\n",
       "}\n",
       "#T_95990_row12_col1 {\n",
       "  background-color: #083e81;\n",
       "  color: #f1f1f1;\n",
       "}\n",
       "#T_95990_row13_col1 {\n",
       "  background-color: #0a549e;\n",
       "  color: #f1f1f1;\n",
       "}\n",
       "#T_95990_row14_col1 {\n",
       "  background-color: #08306b;\n",
       "  color: #f1f1f1;\n",
       "}\n",
       "#T_95990_row15_col1 {\n",
       "  background-color: #084488;\n",
       "  color: #f1f1f1;\n",
       "}\n",
       "#T_95990_row16_col1 {\n",
       "  background-color: #083a7a;\n",
       "  color: #f1f1f1;\n",
       "}\n",
       "#T_95990_row17_col1 {\n",
       "  background-color: #08509b;\n",
       "  color: #f1f1f1;\n",
       "}\n",
       "#T_95990_row18_col1 {\n",
       "  background-color: #1e6db2;\n",
       "  color: #f1f1f1;\n",
       "}\n",
       "#T_95990_row19_col1 {\n",
       "  background-color: #2474b7;\n",
       "  color: #f1f1f1;\n",
       "}\n",
       "#T_95990_row20_col1 {\n",
       "  background-color: #1562a9;\n",
       "  color: #f1f1f1;\n",
       "}\n",
       "#T_95990_row21_col1 {\n",
       "  background-color: #125ea6;\n",
       "  color: #f1f1f1;\n",
       "}\n",
       "#T_95990_row22_col1 {\n",
       "  background-color: #083877;\n",
       "  color: #f1f1f1;\n",
       "}\n",
       "#T_95990_row23_col1 {\n",
       "  background-color: #083370;\n",
       "  color: #f1f1f1;\n",
       "}\n",
       "#T_95990_row24_col1 {\n",
       "  background-color: #0a539e;\n",
       "  color: #f1f1f1;\n",
       "}\n",
       "#T_95990_row25_col1 {\n",
       "  background-color: #1764ab;\n",
       "  color: #f1f1f1;\n",
       "}\n",
       "#T_95990_row26_col1 {\n",
       "  background-color: #4997c9;\n",
       "  color: #f1f1f1;\n",
       "}\n",
       "#T_95990_row27_col1 {\n",
       "  background-color: #72b2d8;\n",
       "  color: #f1f1f1;\n",
       "}\n",
       "#T_95990_row28_col1 {\n",
       "  background-color: #7db8da;\n",
       "  color: #000000;\n",
       "}\n",
       "#T_95990_row29_col1 {\n",
       "  background-color: #f3f8fe;\n",
       "  color: #000000;\n",
       "}\n",
       "</style>\n",
       "<table id=\"T_95990\">\n",
       "  <thead>\n",
       "    <tr>\n",
       "      <th id=\"T_95990_level0_col0\" class=\"col_heading level0 col0\" >Release Year</th>\n",
       "      <th id=\"T_95990_level0_col1\" class=\"col_heading level0 col1\" >count</th>\n",
       "    </tr>\n",
       "  </thead>\n",
       "  <tbody>\n",
       "    <tr>\n",
       "      <td id=\"T_95990_row0_col0\" class=\"data row0 col0\" >1995</td>\n",
       "      <td id=\"T_95990_row0_col1\" class=\"data row0 col1\" >1</td>\n",
       "    </tr>\n",
       "    <tr>\n",
       "      <td id=\"T_95990_row1_col0\" class=\"data row1 col0\" >1996</td>\n",
       "      <td id=\"T_95990_row1_col1\" class=\"data row1 col1\" >10</td>\n",
       "    </tr>\n",
       "    <tr>\n",
       "      <td id=\"T_95990_row2_col0\" class=\"data row2 col0\" >1997</td>\n",
       "      <td id=\"T_95990_row2_col1\" class=\"data row2 col1\" >14</td>\n",
       "    </tr>\n",
       "    <tr>\n",
       "      <td id=\"T_95990_row3_col0\" class=\"data row3 col0\" >1998</td>\n",
       "      <td id=\"T_95990_row3_col1\" class=\"data row3 col1\" >42</td>\n",
       "    </tr>\n",
       "    <tr>\n",
       "      <td id=\"T_95990_row4_col0\" class=\"data row4 col0\" >1999</td>\n",
       "      <td id=\"T_95990_row4_col1\" class=\"data row4 col1\" >44</td>\n",
       "    </tr>\n",
       "    <tr>\n",
       "      <td id=\"T_95990_row5_col0\" class=\"data row5 col0\" >2000</td>\n",
       "      <td id=\"T_95990_row5_col1\" class=\"data row5 col1\" >225</td>\n",
       "    </tr>\n",
       "    <tr>\n",
       "      <td id=\"T_95990_row6_col0\" class=\"data row6 col0\" >2001</td>\n",
       "      <td id=\"T_95990_row6_col1\" class=\"data row6 col1\" >306</td>\n",
       "    </tr>\n",
       "    <tr>\n",
       "      <td id=\"T_95990_row7_col0\" class=\"data row7 col0\" >2002</td>\n",
       "      <td id=\"T_95990_row7_col1\" class=\"data row7 col1\" >338</td>\n",
       "    </tr>\n",
       "    <tr>\n",
       "      <td id=\"T_95990_row8_col0\" class=\"data row8 col0\" >2003</td>\n",
       "      <td id=\"T_95990_row8_col1\" class=\"data row8 col1\" >351</td>\n",
       "    </tr>\n",
       "    <tr>\n",
       "      <td id=\"T_95990_row9_col0\" class=\"data row9 col0\" >2004</td>\n",
       "      <td id=\"T_95990_row9_col1\" class=\"data row9 col1\" >369</td>\n",
       "    </tr>\n",
       "    <tr>\n",
       "      <td id=\"T_95990_row10_col0\" class=\"data row10 col0\" >2005</td>\n",
       "      <td id=\"T_95990_row10_col1\" class=\"data row10 col1\" >387</td>\n",
       "    </tr>\n",
       "    <tr>\n",
       "      <td id=\"T_95990_row11_col0\" class=\"data row11 col0\" >2006</td>\n",
       "      <td id=\"T_95990_row11_col1\" class=\"data row11 col1\" >441</td>\n",
       "    </tr>\n",
       "    <tr>\n",
       "      <td id=\"T_95990_row12_col0\" class=\"data row12 col0\" >2007</td>\n",
       "      <td id=\"T_95990_row12_col1\" class=\"data row12 col1\" >446</td>\n",
       "    </tr>\n",
       "    <tr>\n",
       "      <td id=\"T_95990_row13_col0\" class=\"data row13 col0\" >2008</td>\n",
       "      <td id=\"T_95990_row13_col1\" class=\"data row13 col1\" >407</td>\n",
       "    </tr>\n",
       "    <tr>\n",
       "      <td id=\"T_95990_row14_col0\" class=\"data row14 col0\" >2009</td>\n",
       "      <td id=\"T_95990_row14_col1\" class=\"data row14 col1\" >472</td>\n",
       "    </tr>\n",
       "    <tr>\n",
       "      <td id=\"T_95990_row15_col0\" class=\"data row15 col0\" >2010</td>\n",
       "      <td id=\"T_95990_row15_col1\" class=\"data row15 col1\" >437</td>\n",
       "    </tr>\n",
       "    <tr>\n",
       "      <td id=\"T_95990_row16_col0\" class=\"data row16 col0\" >2011</td>\n",
       "      <td id=\"T_95990_row16_col1\" class=\"data row16 col1\" >452</td>\n",
       "    </tr>\n",
       "    <tr>\n",
       "      <td id=\"T_95990_row17_col0\" class=\"data row17 col0\" >2012</td>\n",
       "      <td id=\"T_95990_row17_col1\" class=\"data row17 col1\" >414</td>\n",
       "    </tr>\n",
       "    <tr>\n",
       "      <td id=\"T_95990_row18_col0\" class=\"data row18 col0\" >2013</td>\n",
       "      <td id=\"T_95990_row18_col1\" class=\"data row18 col1\" >361</td>\n",
       "    </tr>\n",
       "    <tr>\n",
       "      <td id=\"T_95990_row19_col0\" class=\"data row19 col0\" >2014</td>\n",
       "      <td id=\"T_95990_row19_col1\" class=\"data row19 col1\" >348</td>\n",
       "    </tr>\n",
       "    <tr>\n",
       "      <td id=\"T_95990_row20_col0\" class=\"data row20 col0\" >2015</td>\n",
       "      <td id=\"T_95990_row20_col1\" class=\"data row20 col1\" >381</td>\n",
       "    </tr>\n",
       "    <tr>\n",
       "      <td id=\"T_95990_row21_col0\" class=\"data row21 col0\" >2016</td>\n",
       "      <td id=\"T_95990_row21_col1\" class=\"data row21 col1\" >389</td>\n",
       "    </tr>\n",
       "    <tr>\n",
       "      <td id=\"T_95990_row22_col0\" class=\"data row22 col0\" >2017</td>\n",
       "      <td id=\"T_95990_row22_col1\" class=\"data row22 col1\" >457</td>\n",
       "    </tr>\n",
       "    <tr>\n",
       "      <td id=\"T_95990_row23_col0\" class=\"data row23 col0\" >2018</td>\n",
       "      <td id=\"T_95990_row23_col1\" class=\"data row23 col1\" >465</td>\n",
       "    </tr>\n",
       "    <tr>\n",
       "      <td id=\"T_95990_row24_col0\" class=\"data row24 col0\" >2019</td>\n",
       "      <td id=\"T_95990_row24_col1\" class=\"data row24 col1\" >409</td>\n",
       "    </tr>\n",
       "    <tr>\n",
       "      <td id=\"T_95990_row25_col0\" class=\"data row25 col0\" >2020</td>\n",
       "      <td id=\"T_95990_row25_col1\" class=\"data row25 col1\" >378</td>\n",
       "    </tr>\n",
       "    <tr>\n",
       "      <td id=\"T_95990_row26_col0\" class=\"data row26 col0\" >2021</td>\n",
       "      <td id=\"T_95990_row26_col1\" class=\"data row26 col1\" >285</td>\n",
       "    </tr>\n",
       "    <tr>\n",
       "      <td id=\"T_95990_row27_col0\" class=\"data row27 col0\" >2022</td>\n",
       "      <td id=\"T_95990_row27_col1\" class=\"data row27 col1\" >229</td>\n",
       "    </tr>\n",
       "    <tr>\n",
       "      <td id=\"T_95990_row28_col0\" class=\"data row28 col0\" >2023</td>\n",
       "      <td id=\"T_95990_row28_col1\" class=\"data row28 col1\" >216</td>\n",
       "    </tr>\n",
       "    <tr>\n",
       "      <td id=\"T_95990_row29_col0\" class=\"data row29 col0\" >2024</td>\n",
       "      <td id=\"T_95990_row29_col1\" class=\"data row29 col1\" >11</td>\n",
       "    </tr>\n",
       "  </tbody>\n",
       "</table>\n"
      ],
      "text/plain": [
       "<pandas.io.formats.style.Styler at 0x1ab61f97290>"
      ]
     },
     "execution_count": 53,
     "metadata": {},
     "output_type": "execute_result"
    }
   ],
   "source": [
    "released_games_by_years = df['Release Year'].value_counts().reset_index().sort_values(by='Release Year')\n",
    "released_games_by_years.style.hide(axis=\"index\").background_gradient(cmap='Blues',subset='count')"
   ]
  },
  {
   "cell_type": "code",
   "execution_count": 66,
   "metadata": {},
   "outputs": [
    {
     "data": {
      "image/png": "[encoded data removed]",
      "text/plain": [
       "<Figure size 1500x800 with 1 Axes>"
      ]
     },
     "metadata": {},
     "output_type": "display_data"
    }
   ],
   "source": [
    "most_rated_genres = df.nlargest(100, 'User Ratings Count')\n",
    "\n",
    "plt.figure(figsize=(15, 8))\n",
    "sns.barplot(x='User Ratings Count', hue='Genres',y='Genres', legend=False, data=most_rated_genres, palette='Blues_d')\n",
    "plt.xlabel('User Ratings Count')\n",
    "plt.ylabel('')\n",
    "plt.show()"
   ]
  },
  {
   "cell_type": "code",
   "execution_count": null,
   "metadata": {},
   "outputs": [
    {
     "data": {
      "image/png": "[encoded data removed]",
      "text/plain": [
       "<Figure size 1500x800 with 1 Axes>"
      ]
     },
     "metadata": {},
     "output_type": "display_data"
    }
   ],
   "source": [
    "most_rated_developers = df.nlargest(30, 'User Ratings Count')\n",
    "\n",
    "plt.figure(figsize=(15, 8))\n",
    "sns.barplot(x='User Ratings Count', hue='Developer',y='Developer', legend=False, data=most_rated_developers, palette='Blues_d')\n",
    "plt.xlabel('User Ratings Count')\n",
    "plt.ylabel('')\n",
    "plt.show()"
   ]
  },
  {
   "cell_type": "code",
   "execution_count": null,
   "metadata": {},
   "outputs": [
    {
     "data": {
      "application/vnd.plotly.v1+json": {
       "config": {
        "plotlyServerURL": "https://plot.ly"
       },
       "data": [
        {
         "domain": {
          "x": [
           0,
           1
          ],
          "y": [
           0,
           1
          ]
         },
         "hovertemplate": "<b>%{hovertext}</b><br><br>value=%{value}<extra></extra>",
         "hovertext": [
          "Rated T For Teen",
          "Rated E For Everyone",
          "Rated M For Mature",
          "Rated E +10 For Everyone +10",
          "Rated RP For Rate Pending"
         ],
         "legendgroup": "",
         "name": "",
         "showlegend": false,
         "type": "pie",
         "values": [
          3333,
          2389,
          1979,
          1369,
          15
         ]
        }
       ],
       "layout": {
        "legend": {
         "tracegroupgap": 0
        },
        "margin": {
         "t": 60
        },
        "template": {
         "data": {
          "bar": [
           {
            "error_x": {
             "color": "#f2f5fa"
            },
            "error_y": {
             "color": "#f2f5fa"
            },
            "marker": {
             "line": {
              "color": "rgb(17,17,17)",
              "width": 0.5
             },
             "pattern": {
              "fillmode": "overlay",
              "size": 10,
              "solidity": 0.2
             }
            },
            "type": "bar"
           }
          ],
          "barpolar": [
           {
            "marker": {
             "line": {
              "color": "rgb(17,17,17)",
              "width": 0.5
             },
             "pattern": {
              "fillmode": "overlay",
              "size": 10,
              "solidity": 0.2
             }
            },
            "type": "barpolar"
           }
          ],
          "carpet": [
           {
            "aaxis": {
             "endlinecolor": "#A2B1C6",
             "gridcolor": "#506784",
             "linecolor": "#506784",
             "minorgridcolor": "#506784",
             "startlinecolor": "#A2B1C6"
            },
            "baxis": {
             "endlinecolor": "#A2B1C6",
             "gridcolor": "#506784",
             "linecolor": "#506784",
             "minorgridcolor": "#506784",
             "startlinecolor": "#A2B1C6"
            },
            "type": "carpet"
           }
          ],
          "choropleth": [
           {
            "colorbar": {
             "outlinewidth": 0,
             "ticks": ""
            },
            "type": "choropleth"
           }
          ],
          "contour": [
           {
            "colorbar": {
             "outlinewidth": 0,
             "ticks": ""
            },
            "colorscale": [
             [
              0,
              "#0d0887"
             ],
             [
              0.1111111111111111,
              "#46039f"
             ],
             [
              0.2222222222222222,
              "#7201a8"
             ],
             [
              0.3333333333333333,
              "#9c179e"
             ],
             [
              0.4444444444444444,
              "#bd3786"
             ],
             [
              0.5555555555555556,
              "#d8576b"
             ],
             [
              0.6666666666666666,
              "#ed7953"
             ],
             [
              0.7777777777777778,
              "#fb9f3a"
             ],
             [
              0.8888888888888888,
              "#fdca26"
             ],
             [
              1,
              "#f0f921"
             ]
            ],
            "type": "contour"
           }
          ],
          "contourcarpet": [
           {
            "colorbar": {
             "outlinewidth": 0,
             "ticks": ""
            },
            "type": "contourcarpet"
           }
          ],
          "heatmap": [
           {
            "colorbar": {
             "outlinewidth": 0,
             "ticks": ""
            },
            "colorscale": [
             [
              0,
              "#0d0887"
             ],
             [
              0.1111111111111111,
              "#46039f"
             ],
             [
              0.2222222222222222,
              "#7201a8"
             ],
             [
              0.3333333333333333,
              "#9c179e"
             ],
             [
              0.4444444444444444,
              "#bd3786"
             ],
             [
              0.5555555555555556,
              "#d8576b"
             ],
             [
              0.6666666666666666,
              "#ed7953"
             ],
             [
              0.7777777777777778,
              "#fb9f3a"
             ],
             [
              0.8888888888888888,
              "#fdca26"
             ],
             [
              1,
              "#f0f921"
             ]
            ],
            "type": "heatmap"
           }
          ],
          "heatmapgl": [
           {
            "colorbar": {
             "outlinewidth": 0,
             "ticks": ""
            },
            "colorscale": [
             [
              0,
              "#0d0887"
             ],
             [
              0.1111111111111111,
              "#46039f"
             ],
             [
              0.2222222222222222,
              "#7201a8"
             ],
             [
              0.3333333333333333,
              "#9c179e"
             ],
             [
              0.4444444444444444,
              "#bd3786"
             ],
             [
              0.5555555555555556,
              "#d8576b"
             ],
             [
              0.6666666666666666,
              "#ed7953"
             ],
             [
              0.7777777777777778,
              "#fb9f3a"
             ],
             [
              0.8888888888888888,
              "#fdca26"
             ],
             [
              1,
              "#f0f921"
             ]
            ],
            "type": "heatmapgl"
           }
          ],
          "histogram": [
           {
            "marker": {
             "pattern": {
              "fillmode": "overlay",
              "size": 10,
              "solidity": 0.2
             }
            },
            "type": "histogram"
           }
          ],
          "histogram2d": [
           {
            "colorbar": {
             "outlinewidth": 0,
             "ticks": ""
            },
            "colorscale": [
             [
              0,
              "#0d0887"
             ],
             [
              0.1111111111111111,
              "#46039f"
             ],
             [
              0.2222222222222222,
              "#7201a8"
             ],
             [
              0.3333333333333333,
              "#9c179e"
             ],
             [
              0.4444444444444444,
              "#bd3786"
             ],
             [
              0.5555555555555556,
              "#d8576b"
             ],
             [
              0.6666666666666666,
              "#ed7953"
             ],
             [
              0.7777777777777778,
              "#fb9f3a"
             ],
             [
              0.8888888888888888,
              "#fdca26"
             ],
             [
              1,
              "#f0f921"
             ]
            ],
            "type": "histogram2d"
           }
          ],
          "histogram2dcontour": [
           {
            "colorbar": {
             "outlinewidth": 0,
             "ticks": ""
            },
            "colorscale": [
             [
              0,
              "#0d0887"
             ],
             [
              0.1111111111111111,
              "#46039f"
             ],
             [
              0.2222222222222222,
              "#7201a8"
             ],
             [
              0.3333333333333333,
              "#9c179e"
             ],
             [
              0.4444444444444444,
              "#bd3786"
             ],
             [
              0.5555555555555556,
              "#d8576b"
             ],
             [
              0.6666666666666666,
              "#ed7953"
             ],
             [
              0.7777777777777778,
              "#fb9f3a"
             ],
             [
              0.8888888888888888,
              "#fdca26"
             ],
             [
              1,
              "#f0f921"
             ]
            ],
            "type": "histogram2dcontour"
           }
          ],
          "mesh3d": [
           {
            "colorbar": {
             "outlinewidth": 0,
             "ticks": ""
            },
            "type": "mesh3d"
           }
          ],
          "parcoords": [
           {
            "line": {
             "colorbar": {
              "outlinewidth": 0,
              "ticks": ""
             }
            },
            "type": "parcoords"
           }
          ],
          "pie": [
           {
            "automargin": true,
            "type": "pie"
           }
          ],
          "scatter": [
           {
            "marker": {
             "line": {
              "color": "#283442"
             }
            },
            "type": "scatter"
           }
          ],
          "scatter3d": [
           {
            "line": {
             "colorbar": {
              "outlinewidth": 0,
              "ticks": ""
             }
            },
            "marker": {
             "colorbar": {
              "outlinewidth": 0,
              "ticks": ""
             }
            },
            "type": "scatter3d"
           }
          ],
          "scattercarpet": [
           {
            "marker": {
             "colorbar": {
              "outlinewidth": 0,
              "ticks": ""
             }
            },
            "type": "scattercarpet"
           }
          ],
          "scattergeo": [
           {
            "marker": {
             "colorbar": {
              "outlinewidth": 0,
              "ticks": ""
             }
            },
            "type": "scattergeo"
           }
          ],
          "scattergl": [
           {
            "marker": {
             "line": {
              "color": "#283442"
             }
            },
            "type": "scattergl"
           }
          ],
          "scattermapbox": [
           {
            "marker": {
             "colorbar": {
              "outlinewidth": 0,
              "ticks": ""
             }
            },
            "type": "scattermapbox"
           }
          ],
          "scatterpolar": [
           {
            "marker": {
             "colorbar": {
              "outlinewidth": 0,
              "ticks": ""
             }
            },
            "type": "scatterpolar"
           }
          ],
          "scatterpolargl": [
           {
            "marker": {
             "colorbar": {
              "outlinewidth": 0,
              "ticks": ""
             }
            },
            "type": "scatterpolargl"
           }
          ],
          "scatterternary": [
           {
            "marker": {
             "colorbar": {
              "outlinewidth": 0,
              "ticks": ""
             }
            },
            "type": "scatterternary"
           }
          ],
          "surface": [
           {
            "colorbar": {
             "outlinewidth": 0,
             "ticks": ""
            },
            "colorscale": [
             [
              0,
              "#0d0887"
             ],
             [
              0.1111111111111111,
              "#46039f"
             ],
             [
              0.2222222222222222,
              "#7201a8"
             ],
             [
              0.3333333333333333,
              "#9c179e"
             ],
             [
              0.4444444444444444,
              "#bd3786"
             ],
             [
              0.5555555555555556,
              "#d8576b"
             ],
             [
              0.6666666666666666,
              "#ed7953"
             ],
             [
              0.7777777777777778,
              "#fb9f3a"
             ],
             [
              0.8888888888888888,
              "#fdca26"
             ],
             [
              1,
              "#f0f921"
             ]
            ],
            "type": "surface"
           }
          ],
          "table": [
           {
            "cells": {
             "fill": {
              "color": "#506784"
             },
             "line": {
              "color": "rgb(17,17,17)"
             }
            },
            "header": {
             "fill": {
              "color": "#2a3f5f"
             },
             "line": {
              "color": "rgb(17,17,17)"
             }
            },
            "type": "table"
           }
          ]
         },
         "layout": {
          "annotationdefaults": {
           "arrowcolor": "#f2f5fa",
           "arrowhead": 0,
           "arrowwidth": 1
          },
          "autotypenumbers": "strict",
          "coloraxis": {
           "colorbar": {
            "outlinewidth": 0,
            "ticks": ""
           }
          },
          "colorscale": {
           "diverging": [
            [
             0,
             "#8e0152"
            ],
            [
             0.1,
             "#c51b7d"
            ],
            [
             0.2,
             "#de77ae"
            ],
            [
             0.3,
             "#f1b6da"
            ],
            [
             0.4,
             "#fde0ef"
            ],
            [
             0.5,
             "#f7f7f7"
            ],
            [
             0.6,
             "#e6f5d0"
            ],
            [
             0.7,
             "#b8e186"
            ],
            [
             0.8,
             "#7fbc41"
            ],
            [
             0.9,
             "#4d9221"
            ],
            [
             1,
             "#276419"
            ]
           ],
           "sequential": [
            [
             0,
             "#0d0887"
            ],
            [
             0.1111111111111111,
             "#46039f"
            ],
            [
             0.2222222222222222,
             "#7201a8"
            ],
            [
             0.3333333333333333,
             "#9c179e"
            ],
            [
             0.4444444444444444,
             "#bd3786"
            ],
            [
             0.5555555555555556,
             "#d8576b"
            ],
            [
             0.6666666666666666,
             "#ed7953"
            ],
            [
             0.7777777777777778,
             "#fb9f3a"
            ],
            [
             0.8888888888888888,
             "#fdca26"
            ],
            [
             1,
             "#f0f921"
            ]
           ],
           "sequentialminus": [
            [
             0,
             "#0d0887"
            ],
            [
             0.1111111111111111,
             "#46039f"
            ],
            [
             0.2222222222222222,
             "#7201a8"
            ],
            [
             0.3333333333333333,
             "#9c179e"
            ],
            [
             0.4444444444444444,
             "#bd3786"
            ],
            [
             0.5555555555555556,
             "#d8576b"
            ],
            [
             0.6666666666666666,
             "#ed7953"
            ],
            [
             0.7777777777777778,
             "#fb9f3a"
            ],
            [
             0.8888888888888888,
             "#fdca26"
            ],
            [
             1,
             "#f0f921"
            ]
           ]
          },
          "colorway": [
           "#636efa",
           "#EF553B",
           "#00cc96",
           "#ab63fa",
           "#FFA15A",
           "#19d3f3",
           "#FF6692",
           "#B6E880",
           "#FF97FF",
           "#FECB52"
          ],
          "font": {
           "color": "#f2f5fa"
          },
          "geo": {
           "bgcolor": "rgb(17,17,17)",
           "lakecolor": "rgb(17,17,17)",
           "landcolor": "rgb(17,17,17)",
           "showlakes": true,
           "showland": true,
           "subunitcolor": "#506784"
          },
          "hoverlabel": {
           "align": "left"
          },
          "hovermode": "closest",
          "mapbox": {
           "style": "dark"
          },
          "paper_bgcolor": "rgb(17,17,17)",
          "plot_bgcolor": "rgb(17,17,17)",
          "polar": {
           "angularaxis": {
            "gridcolor": "#506784",
            "linecolor": "#506784",
            "ticks": ""
           },
           "bgcolor": "rgb(17,17,17)",
           "radialaxis": {
            "gridcolor": "#506784",
            "linecolor": "#506784",
            "ticks": ""
           }
          },
          "scene": {
           "xaxis": {
            "backgroundcolor": "rgb(17,17,17)",
            "gridcolor": "#506784",
            "gridwidth": 2,
            "linecolor": "#506784",
            "showbackground": true,
            "ticks": "",
            "zerolinecolor": "#C8D4E3"
           },
           "yaxis": {
            "backgroundcolor": "rgb(17,17,17)",
            "gridcolor": "#506784",
            "gridwidth": 2,
            "linecolor": "#506784",
            "showbackground": true,
            "ticks": "",
            "zerolinecolor": "#C8D4E3"
           },
           "zaxis": {
            "backgroundcolor": "rgb(17,17,17)",
            "gridcolor": "#506784",
            "gridwidth": 2,
            "linecolor": "#506784",
            "showbackground": true,
            "ticks": "",
            "zerolinecolor": "#C8D4E3"
           }
          },
          "shapedefaults": {
           "line": {
            "color": "#f2f5fa"
           }
          },
          "sliderdefaults": {
           "bgcolor": "#C8D4E3",
           "bordercolor": "rgb(17,17,17)",
           "borderwidth": 1,
           "tickwidth": 0
          },
          "ternary": {
           "aaxis": {
            "gridcolor": "#506784",
            "linecolor": "#506784",
            "ticks": ""
           },
           "baxis": {
            "gridcolor": "#506784",
            "linecolor": "#506784",
            "ticks": ""
           },
           "bgcolor": "rgb(17,17,17)",
           "caxis": {
            "gridcolor": "#506784",
            "linecolor": "#506784",
            "ticks": ""
           }
          },
          "title": {
           "x": 0.05
          },
          "updatemenudefaults": {
           "bgcolor": "#506784",
           "borderwidth": 0
          },
          "xaxis": {
           "automargin": true,
           "gridcolor": "#283442",
           "linecolor": "#506784",
           "ticks": "",
           "title": {
            "standoff": 15
           },
           "zerolinecolor": "#283442",
           "zerolinewidth": 2
          },
          "yaxis": {
           "automargin": true,
           "gridcolor": "#283442",
           "linecolor": "#506784",
           "ticks": "",
           "title": {
            "standoff": 15
           },
           "zerolinecolor": "#283442",
           "zerolinewidth": 2
          }
         }
        },
        "title": {
         "text": "Share Of Video Games By Product Rating"
        }
       }
      }
     },
     "metadata": {},
     "output_type": "display_data"
    }
   ],
   "source": [
    "ratings=df['Product Rating'].value_counts()\n",
    "\n",
    "fig=px.pie(labels=ratings.index,values=ratings.values,hover_name=ratings.index)\n",
    "fig.update_layout(template='plotly_dark')\n",
    "fig.update_layout(title=dict(text='Share Of Video Games By Product Rating'))"
   ]
  },
  {
   "cell_type": "code",
   "execution_count": 82,
   "metadata": {},
   "outputs": [
    {
     "ename": "ValueError",
     "evalue": "could not convert string to float: 'Guitar Hero III: Legends of Rock'",
     "output_type": "error",
     "traceback": [
      "\u001b[1;31m---------------------------------------------------------------------------\u001b[0m",
      "\u001b[1;31mValueError\u001b[0m                                Traceback (most recent call last)",
      "Cell \u001b[1;32mIn[82], line 2\u001b[0m\n\u001b[0;32m      1\u001b[0m Dcol \u001b[38;5;241m=\u001b[39m df\u001b[38;5;241m.\u001b[39mdrop(df[df[\u001b[38;5;124m'\u001b[39m\u001b[38;5;124mTitle\u001b[39m\u001b[38;5;124m'\u001b[39m] \u001b[38;5;241m==\u001b[39m \u001b[38;5;124m'\u001b[39m\u001b[38;5;124mGothic 3\u001b[39m\u001b[38;5;124m'\u001b[39m]\u001b[38;5;241m.\u001b[39mindex)\n\u001b[1;32m----> 2\u001b[0m dataplot \u001b[38;5;241m=\u001b[39m sns\u001b[38;5;241m.\u001b[39mheatmap(\u001b[43mDcol\u001b[49m\u001b[38;5;241;43m.\u001b[39;49m\u001b[43mcorr\u001b[49m\u001b[43m(\u001b[49m\u001b[43m)\u001b[49m, annot\u001b[38;5;241m=\u001b[39m\u001b[38;5;28;01mTrue\u001b[39;00m)\n",
      "File \u001b[1;32mc:\\Users\\Yurii\\AppData\\Local\\Programs\\Python\\Python312\\Lib\\site-packages\\pandas\\core\\frame.py:11049\u001b[0m, in \u001b[0;36mDataFrame.corr\u001b[1;34m(self, method, min_periods, numeric_only)\u001b[0m\n\u001b[0;32m  11047\u001b[0m cols \u001b[38;5;241m=\u001b[39m data\u001b[38;5;241m.\u001b[39mcolumns\n\u001b[0;32m  11048\u001b[0m idx \u001b[38;5;241m=\u001b[39m cols\u001b[38;5;241m.\u001b[39mcopy()\n\u001b[1;32m> 11049\u001b[0m mat \u001b[38;5;241m=\u001b[39m \u001b[43mdata\u001b[49m\u001b[38;5;241;43m.\u001b[39;49m\u001b[43mto_numpy\u001b[49m\u001b[43m(\u001b[49m\u001b[43mdtype\u001b[49m\u001b[38;5;241;43m=\u001b[39;49m\u001b[38;5;28;43mfloat\u001b[39;49m\u001b[43m,\u001b[49m\u001b[43m \u001b[49m\u001b[43mna_value\u001b[49m\u001b[38;5;241;43m=\u001b[39;49m\u001b[43mnp\u001b[49m\u001b[38;5;241;43m.\u001b[39;49m\u001b[43mnan\u001b[49m\u001b[43m,\u001b[49m\u001b[43m \u001b[49m\u001b[43mcopy\u001b[49m\u001b[38;5;241;43m=\u001b[39;49m\u001b[38;5;28;43;01mFalse\u001b[39;49;00m\u001b[43m)\u001b[49m\n\u001b[0;32m  11051\u001b[0m \u001b[38;5;28;01mif\u001b[39;00m method \u001b[38;5;241m==\u001b[39m \u001b[38;5;124m\"\u001b[39m\u001b[38;5;124mpearson\u001b[39m\u001b[38;5;124m\"\u001b[39m:\n\u001b[0;32m  11052\u001b[0m     correl \u001b[38;5;241m=\u001b[39m libalgos\u001b[38;5;241m.\u001b[39mnancorr(mat, minp\u001b[38;5;241m=\u001b[39mmin_periods)\n",
      "File \u001b[1;32mc:\\Users\\Yurii\\AppData\\Local\\Programs\\Python\\Python312\\Lib\\site-packages\\pandas\\core\\frame.py:1993\u001b[0m, in \u001b[0;36mDataFrame.to_numpy\u001b[1;34m(self, dtype, copy, na_value)\u001b[0m\n\u001b[0;32m   1991\u001b[0m \u001b[38;5;28;01mif\u001b[39;00m dtype \u001b[38;5;129;01mis\u001b[39;00m \u001b[38;5;129;01mnot\u001b[39;00m \u001b[38;5;28;01mNone\u001b[39;00m:\n\u001b[0;32m   1992\u001b[0m     dtype \u001b[38;5;241m=\u001b[39m np\u001b[38;5;241m.\u001b[39mdtype(dtype)\n\u001b[1;32m-> 1993\u001b[0m result \u001b[38;5;241m=\u001b[39m \u001b[38;5;28;43mself\u001b[39;49m\u001b[38;5;241;43m.\u001b[39;49m\u001b[43m_mgr\u001b[49m\u001b[38;5;241;43m.\u001b[39;49m\u001b[43mas_array\u001b[49m\u001b[43m(\u001b[49m\u001b[43mdtype\u001b[49m\u001b[38;5;241;43m=\u001b[39;49m\u001b[43mdtype\u001b[49m\u001b[43m,\u001b[49m\u001b[43m \u001b[49m\u001b[43mcopy\u001b[49m\u001b[38;5;241;43m=\u001b[39;49m\u001b[43mcopy\u001b[49m\u001b[43m,\u001b[49m\u001b[43m \u001b[49m\u001b[43mna_value\u001b[49m\u001b[38;5;241;43m=\u001b[39;49m\u001b[43mna_value\u001b[49m\u001b[43m)\u001b[49m\n\u001b[0;32m   1994\u001b[0m \u001b[38;5;28;01mif\u001b[39;00m result\u001b[38;5;241m.\u001b[39mdtype \u001b[38;5;129;01mis\u001b[39;00m \u001b[38;5;129;01mnot\u001b[39;00m dtype:\n\u001b[0;32m   1995\u001b[0m     result \u001b[38;5;241m=\u001b[39m np\u001b[38;5;241m.\u001b[39masarray(result, dtype\u001b[38;5;241m=\u001b[39mdtype)\n",
      "File \u001b[1;32mc:\\Users\\Yurii\\AppData\\Local\\Programs\\Python\\Python312\\Lib\\site-packages\\pandas\\core\\internals\\managers.py:1694\u001b[0m, in \u001b[0;36mBlockManager.as_array\u001b[1;34m(self, dtype, copy, na_value)\u001b[0m\n\u001b[0;32m   1692\u001b[0m         arr\u001b[38;5;241m.\u001b[39mflags\u001b[38;5;241m.\u001b[39mwriteable \u001b[38;5;241m=\u001b[39m \u001b[38;5;28;01mFalse\u001b[39;00m\n\u001b[0;32m   1693\u001b[0m \u001b[38;5;28;01melse\u001b[39;00m:\n\u001b[1;32m-> 1694\u001b[0m     arr \u001b[38;5;241m=\u001b[39m \u001b[38;5;28;43mself\u001b[39;49m\u001b[38;5;241;43m.\u001b[39;49m\u001b[43m_interleave\u001b[49m\u001b[43m(\u001b[49m\u001b[43mdtype\u001b[49m\u001b[38;5;241;43m=\u001b[39;49m\u001b[43mdtype\u001b[49m\u001b[43m,\u001b[49m\u001b[43m \u001b[49m\u001b[43mna_value\u001b[49m\u001b[38;5;241;43m=\u001b[39;49m\u001b[43mna_value\u001b[49m\u001b[43m)\u001b[49m\n\u001b[0;32m   1695\u001b[0m     \u001b[38;5;66;03m# The underlying data was copied within _interleave, so no need\u001b[39;00m\n\u001b[0;32m   1696\u001b[0m     \u001b[38;5;66;03m# to further copy if copy=True or setting na_value\u001b[39;00m\n\u001b[0;32m   1698\u001b[0m \u001b[38;5;28;01mif\u001b[39;00m na_value \u001b[38;5;129;01mis\u001b[39;00m lib\u001b[38;5;241m.\u001b[39mno_default:\n",
      "File \u001b[1;32mc:\\Users\\Yurii\\AppData\\Local\\Programs\\Python\\Python312\\Lib\\site-packages\\pandas\\core\\internals\\managers.py:1753\u001b[0m, in \u001b[0;36mBlockManager._interleave\u001b[1;34m(self, dtype, na_value)\u001b[0m\n\u001b[0;32m   1751\u001b[0m     \u001b[38;5;28;01melse\u001b[39;00m:\n\u001b[0;32m   1752\u001b[0m         arr \u001b[38;5;241m=\u001b[39m blk\u001b[38;5;241m.\u001b[39mget_values(dtype)\n\u001b[1;32m-> 1753\u001b[0m     \u001b[43mresult\u001b[49m\u001b[43m[\u001b[49m\u001b[43mrl\u001b[49m\u001b[38;5;241;43m.\u001b[39;49m\u001b[43mindexer\u001b[49m\u001b[43m]\u001b[49m \u001b[38;5;241m=\u001b[39m arr\n\u001b[0;32m   1754\u001b[0m     itemmask[rl\u001b[38;5;241m.\u001b[39mindexer] \u001b[38;5;241m=\u001b[39m \u001b[38;5;241m1\u001b[39m\n\u001b[0;32m   1756\u001b[0m \u001b[38;5;28;01mif\u001b[39;00m \u001b[38;5;129;01mnot\u001b[39;00m itemmask\u001b[38;5;241m.\u001b[39mall():\n",
      "\u001b[1;31mValueError\u001b[0m: could not convert string to float: 'Guitar Hero III: Legends of Rock'"
     ]
    }
   ],
   "source": [
    "Dcol = df.drop(df[df['Title'] == 'Gothic 3'].index)\n",
    "dataplot = sns.heatmap(Dcol.corr(), annot=True)"
   ]
  }
 ],
 "metadata": {
  "kernelspec": {
   "display_name": "Python 3",
   "language": "python",
   "name": "python3"
  },
  "language_info": {
   "codemirror_mode": {
    "name": "ipython",
    "version": 3
   },
   "file_extension": ".py",
   "mimetype": "text/x-python",
   "name": "python",
   "nbconvert_exporter": "python",
   "pygments_lexer": "ipython3",
   "version": "3.12.3"
  }
 },
 "nbformat": 4,
 "nbformat_minor": 2
}
